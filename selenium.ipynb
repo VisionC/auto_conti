{
 "cells": [
  {
   "cell_type": "code",
   "execution_count": 185,
   "metadata": {},
   "outputs": [],
   "source": [
    "from selenium import webdriver\n",
    "from bs4 import BeautifulSoup\n",
    "from urllib import parse\n",
    "from urllib import request\n",
    "import time\n",
    "import os\n",
    "from io import BytesIO\n",
    "import pandas as pd\n",
    "import win32clipboard\n",
    "from PIL import Image\n",
    "import pyperclip\n",
    "import win32com.client as client"
   ]
  },
  {
   "cell_type": "code",
   "execution_count": 344,
   "metadata": {},
   "outputs": [],
   "source": [
    "def send_to_clipboard(clip_type, data):\n",
    "    win32clipboard.OpenClipboard()\n",
    "    win32clipboard.EmptyClipboard()\n",
    "    win32clipboard.SetClipboardData(clip_type, data)\n",
    "    win32clipboard.CloseClipboard()"
   ]
  },
  {
   "cell_type": "code",
   "execution_count": 346,
   "metadata": {},
   "outputs": [],
   "source": [
    "hwp = client.gencache.EnsureDispatch(\"HWPFrame.HwpObject\")\n"
   ]
  },
  {
   "cell_type": "code",
   "execution_count": 347,
   "metadata": {},
   "outputs": [
    {
     "data": {
      "text/plain": [
       "True"
      ]
     },
     "execution_count": 347,
     "metadata": {},
     "output_type": "execute_result"
    }
   ],
   "source": [
    "hwp.RegisterModule('FilePathCheckDLL', 'Filepath')\n",
    "hwp.Open(os.getcwd()+'/datas/conti.hwp')\n"
   ]
  },
  {
   "cell_type": "code",
   "execution_count": 348,
   "metadata": {},
   "outputs": [],
   "source": [
    "hwp.HAction.Run(\"SelectAll\")\n",
    "i = 1\n",
    "for link in links : \n",
    "    if i % 2 :\n",
    "        res = request.urlopen(link).read()\n",
    "        image = Image.open(BytesIO(res))\n",
    "        image = image.resize([700,900])\n",
    "        output = BytesIO()\n",
    "        image.convert(\"RGB\").save(output, \"BMP\")\n",
    "        data = output.getvalue()[14:]\n",
    "        send_to_clipboard(win32clipboard.CF_DIB, data)\n",
    "        hwp.HAction.Run(\"Paste\")\n",
    "    i += 1\n",
    "i = 1\n",
    "for link in links : \n",
    "    if i % 2 == 0 :\n",
    "        res = request.urlopen(link).read()\n",
    "        image = Image.open(BytesIO(res))\n",
    "        image = image.resize([700,900])\n",
    "        output = BytesIO()\n",
    "        image.convert(\"RGB\").save(output, \"BMP\")\n",
    "        data = output.getvalue()[14:]\n",
    "        send_to_clipboard(win32clipboard.CF_DIB, data)\n",
    "        hwp.HAction.Run(\"Paste\")\n",
    "    i += 1"
   ]
  },
  {
   "cell_type": "code",
   "execution_count": 179,
   "metadata": {},
   "outputs": [],
   "source": [
    "querys = pd.read_csv('datas/querys.txt', header=None)\n",
    "driver = webdriver.Chrome()\n",
    "links = []\n",
    "for query in querys.values:\n",
    "    query = query[0]\n",
    "    enc = parse.quote(query + ' 악보')\n",
    "    url = f'https://www.google.com/search?q={enc}&tbm=isch&'\n",
    "    driver.get(url)\n",
    "    images = driver.find_elements_by_tag_name(\"img\")\n",
    "    for image in images:\n",
    "        if list(image.size.values()) != [50, 50] :\n",
    "            image.click()\n",
    "            break\n",
    "    time.sleep(1)\n",
    "    link = driver.find_elements_by_css_selector('div.v4dQwb')[0]\n",
    "    links.append(link.find_element_by_class_name('n3VNCb').get_attribute('src'))\n",
    "driver.quit()\n",
    "\n"
   ]
  },
  {
   "cell_type": "code",
   "execution_count": 181,
   "metadata": {},
   "outputs": [
    {
     "data": {
      "text/plain": [
       "['https://mblogthumb-phinf.pstatic.net/20160710_261/gotbaro_1468080254924dy15r_JPEG/263d0913-54c2-4243-b43a-e38f356d605e.jpg?type=w800',\n",
       " 'https://mblogthumb-phinf.pstatic.net/MjAxOTA4MDdfMjAy/MDAxNTY1MTcwOTQwNDk0.syikieKuIwnNXtF8Gc6szhzM1iU8Ws-jvfez5-HzaIUg.euinrEOzIWj8Of2CnbVzGXltzp0q3XBBNt9IfrVFGEcg.JPEG.emr31001/-%EC%8B%9C%EC%84%A0_E.jpg?type=w800',\n",
       " 'https://t1.daumcdn.net/cfile/tistory/2754F9335793DD2B31']"
      ]
     },
     "execution_count": 181,
     "metadata": {},
     "output_type": "execute_result"
    }
   ],
   "source": [
    "links"
   ]
  },
  {
   "cell_type": "code",
   "execution_count": 159,
   "metadata": {},
   "outputs": [],
   "source": [
    "link = driver.find_elements_by_css_selector('div.v4dQwb')[0]\n"
   ]
  },
  {
   "cell_type": "code",
   "execution_count": 160,
   "metadata": {},
   "outputs": [
    {
     "data": {
      "text/plain": [
       "'https://mblogthumb-phinf.pstatic.net/MjAxOTA4MDdfMjAy/MDAxNTY1MTcwOTQwNDk0.syikieKuIwnNXtF8Gc6szhzM1iU8Ws-jvfez5-HzaIUg.euinrEOzIWj8Of2CnbVzGXltzp0q3XBBNt9IfrVFGEcg.JPEG.emr31001/-%EC%8B%9C%EC%84%A0_E.jpg?type=w800'"
      ]
     },
     "execution_count": 160,
     "metadata": {},
     "output_type": "execute_result"
    }
   ],
   "source": [
    "link.find_element_by_class_name('n3VNCb').get_attribute('src')"
   ]
  },
  {
   "cell_type": "code",
   "execution_count": 153,
   "metadata": {},
   "outputs": [],
   "source": [
    "a"
   ]
  },
  {
   "cell_type": "code",
   "execution_count": null,
   "metadata": {},
   "outputs": [],
   "source": []
  },
  {
   "cell_type": "code",
   "execution_count": 96,
   "metadata": {},
   "outputs": [
    {
     "data": {
      "text/plain": [
       "85"
      ]
     },
     "execution_count": 96,
     "metadata": {},
     "output_type": "execute_result"
    }
   ],
   "source": [
    "images = driver.find_elements_by_tag_name(\"img\")\n",
    "len(images)"
   ]
  },
  {
   "cell_type": "code",
   "execution_count": 41,
   "metadata": {},
   "outputs": [],
   "source": [
    "images = driver.find_elements_by_tag_name(\"img\")"
   ]
  },
  {
   "cell_type": "code",
   "execution_count": 47,
   "metadata": {},
   "outputs": [],
   "source": [
    "url = 'https://www.google.com/search?q=%EC%8B%9C%EC%84%A0+%EC%95%85%EB%B3%B4&tbm=isch&#imgrc=qj6m0eEkeSSV7M'"
   ]
  },
  {
   "cell_type": "code",
   "execution_count": 180,
   "metadata": {},
   "outputs": [],
   "source": []
  },
  {
   "cell_type": "code",
   "execution_count": 50,
   "metadata": {},
   "outputs": [],
   "source": [
    "url = driver.current_url"
   ]
  },
  {
   "cell_type": "code",
   "execution_count": 52,
   "metadata": {},
   "outputs": [
    {
     "data": {
      "text/plain": [
       "'https://www.google.com/search?q=%EB%B6%80%EB%A5%B4%EC%8B%A0%20%EA%B3%B3%EC%97%90%EC%84%9C%20%EC%95%85%EB%B3%B4&tbm=isch&#imgrc=H1m8p7OyYDhxdM'"
      ]
     },
     "execution_count": 52,
     "metadata": {},
     "output_type": "execute_result"
    }
   ],
   "source": [
    "url"
   ]
  },
  {
   "cell_type": "code",
   "execution_count": 79,
   "metadata": {},
   "outputs": [],
   "source": [
    "response = requests.get(url)\n",
    "dom = BeautifulSoup(response.content, \"html.parser\")"
   ]
  },
  {
   "cell_type": "code",
   "execution_count": 77,
   "metadata": {},
   "outputs": [
    {
     "data": {
      "text/plain": [
       "<Response [405]>"
      ]
     },
     "execution_count": 77,
     "metadata": {},
     "output_type": "execute_result"
    }
   ],
   "source": []
  },
  {
   "cell_type": "code",
   "execution_count": 84,
   "metadata": {},
   "outputs": [
    {
     "data": {
      "text/plain": [
       "[]"
      ]
     },
     "execution_count": 84,
     "metadata": {},
     "output_type": "execute_result"
    }
   ],
   "source": [
    "dom.select('c-wiz > div > div > div > div > div')"
   ]
  },
  {
   "cell_type": "code",
   "execution_count": null,
   "metadata": {},
   "outputs": [],
   "source": []
  }
 ],
 "metadata": {
  "kernelspec": {
   "display_name": "Python 3",
   "language": "python",
   "name": "python3"
  },
  "language_info": {
   "codemirror_mode": {
    "name": "ipython",
    "version": 3
   },
   "file_extension": ".py",
   "mimetype": "text/x-python",
   "name": "python",
   "nbconvert_exporter": "python",
   "pygments_lexer": "ipython3",
   "version": "3.8.5"
  },
  "toc": {
   "base_numbering": 1,
   "nav_menu": {},
   "number_sections": true,
   "sideBar": true,
   "skip_h1_title": false,
   "title_cell": "Table of Contents",
   "title_sidebar": "Contents",
   "toc_cell": false,
   "toc_position": {},
   "toc_section_display": true,
   "toc_window_display": false
  }
 },
 "nbformat": 4,
 "nbformat_minor": 4
}
